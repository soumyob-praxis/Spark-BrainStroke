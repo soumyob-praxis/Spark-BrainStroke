{
  "nbformat": 4,
  "nbformat_minor": 0,
  "metadata": {
    "colab": {
      "provenance": []
    },
    "kernelspec": {
      "name": "python3",
      "display_name": "Python 3"
    },
    "language_info": {
      "name": "python"
    }
  },
  "cells": [
    {
      "cell_type": "markdown",
      "source": [
        "#Initializing Spark"
      ],
      "metadata": {
        "id": "uOp-EydkO2eV"
      }
    },
    {
      "cell_type": "code",
      "execution_count": 4,
      "metadata": {
        "colab": {
          "base_uri": "https://localhost:8080/",
          "height": 248
        },
        "id": "xEx7mpG-ORm5",
        "outputId": "62c4d7a1-c141-488f-dd88-f01c7a1b85d7"
      },
      "outputs": [
        {
          "output_type": "stream",
          "name": "stdout",
          "text": [
            "\u001b[2K     \u001b[90m━━━━━━━━━━━━━━━━━━━━━━━━━━━━━━━━━━━━━━━\u001b[0m \u001b[32m310.8/310.8 MB\u001b[0m \u001b[31m4.5 MB/s\u001b[0m eta \u001b[36m0:00:00\u001b[0m\n",
            "\u001b[?25h  Preparing metadata (setup.py) ... \u001b[?25l\u001b[?25hdone\n",
            "  Building wheel for pyspark (setup.py) ... \u001b[?25l\u001b[?25hdone\n"
          ]
        },
        {
          "output_type": "execute_result",
          "data": {
            "text/plain": [
              "<SparkContext master=local[*] appName=Spark_Pipeline>"
            ],
            "text/html": [
              "\n",
              "        <div>\n",
              "            <p><b>SparkContext</b></p>\n",
              "\n",
              "            <p><a href=\"http://14ad16de254a:4040\">Spark UI</a></p>\n",
              "\n",
              "            <dl>\n",
              "              <dt>Version</dt>\n",
              "                <dd><code>v3.4.1</code></dd>\n",
              "              <dt>Master</dt>\n",
              "                <dd><code>local[*]</code></dd>\n",
              "              <dt>AppName</dt>\n",
              "                <dd><code>Spark_Pipeline</code></dd>\n",
              "            </dl>\n",
              "        </div>\n",
              "        "
            ]
          },
          "metadata": {},
          "execution_count": 4
        }
      ],
      "source": [
        "!pip3 -q install pyspark\n",
        "from pyspark.sql import SparkSession\n",
        "spark = SparkSession.builder.appName('Spark_Pipeline').master(\"local[*]\").getOrCreate()\n",
        "sc = spark.sparkContext\n",
        "sc"
      ]
    },
    {
      "cell_type": "markdown",
      "source": [
        "##Libraries"
      ],
      "metadata": {
        "id": "WSb0ObCVPF-m"
      }
    },
    {
      "cell_type": "code",
      "source": [
        "import numpy as np\n",
        "import seaborn as sns\n",
        "import pandas as pd\n",
        "import matplotlib.pyplot as plt\n",
        "from sklearn.metrics import confusion_matrix\n",
        "\n",
        "from pyspark.sql.functions import mean\n",
        "from pyspark.ml.feature import OneHotEncoder, StringIndexer, VectorAssembler,StandardScaler\n",
        "from pyspark.ml import Pipeline\n",
        "from pyspark.ml import PipelineModel\n",
        "from pyspark.ml.classification import LogisticRegression\n",
        "from pyspark.ml.classification import RandomForestClassifier\n",
        "from pyspark.ml.evaluation import MulticlassClassificationEvaluator\n",
        "from pyspark.ml.evaluation import BinaryClassificationEvaluator\n",
        "from pyspark.ml.classification import LogisticRegression,RandomForestClassifier,DecisionTreeClassifier,NaiveBayes"
      ],
      "metadata": {
        "id": "kf4_87TrPE9_"
      },
      "execution_count": 5,
      "outputs": []
    },
    {
      "cell_type": "markdown",
      "source": [
        "#DATA"
      ],
      "metadata": {
        "id": "787txEj_PT8W"
      }
    },
    {
      "cell_type": "markdown",
      "source": [
        "##Load Data"
      ],
      "metadata": {
        "id": "fVHipCDbPUE-"
      }
    },
    {
      "cell_type": "code",
      "source": [
        "!wget -q 'https://raw.githubusercontent.com/soumyob-praxis/Spark-BrainStroke/main/brain_stroke.csv'  ##https://github.com/soumyob-praxis/Spark-BrainStroke"
      ],
      "metadata": {
        "id": "N5ZZ_94SPTat"
      },
      "execution_count": 6,
      "outputs": []
    },
    {
      "cell_type": "code",
      "source": [
        "#loading dataset into spark dataframe\n",
        "df = spark.read.csv('/content/brain_stroke.csv', inferSchema=True,header=True)\n",
        "df.show(5)"
      ],
      "metadata": {
        "colab": {
          "base_uri": "https://localhost:8080/"
        },
        "id": "elkOMyBIPcjs",
        "outputId": "02f89615-5b93-4c1c-ce00-6ce44b0aab1f"
      },
      "execution_count": 7,
      "outputs": [
        {
          "output_type": "stream",
          "name": "stdout",
          "text": [
            "+------+----+------------+-------------+------------+-------------+--------------+-----------------+----+---------------+------+\n",
            "|gender| age|hypertension|heart_disease|ever_married|    work_type|Residence_type|avg_glucose_level| bmi| smoking_status|stroke|\n",
            "+------+----+------------+-------------+------------+-------------+--------------+-----------------+----+---------------+------+\n",
            "|  Male|67.0|           0|            1|         Yes|      Private|         Urban|           228.69|36.6|formerly smoked|     1|\n",
            "|  Male|80.0|           0|            1|         Yes|      Private|         Rural|           105.92|32.5|   never smoked|     1|\n",
            "|Female|49.0|           0|            0|         Yes|      Private|         Urban|           171.23|34.4|         smokes|     1|\n",
            "|Female|79.0|           1|            0|         Yes|Self-employed|         Rural|           174.12|24.0|   never smoked|     1|\n",
            "|  Male|81.0|           0|            0|         Yes|      Private|         Urban|           186.21|29.0|formerly smoked|     1|\n",
            "+------+----+------------+-------------+------------+-------------+--------------+-----------------+----+---------------+------+\n",
            "only showing top 5 rows\n",
            "\n"
          ]
        }
      ]
    },
    {
      "cell_type": "markdown",
      "source": [
        "##Basic EDA"
      ],
      "metadata": {
        "id": "T_QiZzmEP5nV"
      }
    },
    {
      "cell_type": "code",
      "source": [
        "df.count()"
      ],
      "metadata": {
        "colab": {
          "base_uri": "https://localhost:8080/"
        },
        "id": "iZkXW2pmRAXG",
        "outputId": "7a73524c-1f1b-40b6-d3ce-9a05ef187f83"
      },
      "execution_count": 8,
      "outputs": [
        {
          "output_type": "execute_result",
          "data": {
            "text/plain": [
              "4981"
            ]
          },
          "metadata": {},
          "execution_count": 8
        }
      ]
    },
    {
      "cell_type": "code",
      "source": [
        "df.printSchema()"
      ],
      "metadata": {
        "colab": {
          "base_uri": "https://localhost:8080/"
        },
        "id": "rFJmGUd_P8Ie",
        "outputId": "4057ea52-2b92-4b07-c9fb-d2817e4895c4"
      },
      "execution_count": 9,
      "outputs": [
        {
          "output_type": "stream",
          "name": "stdout",
          "text": [
            "root\n",
            " |-- gender: string (nullable = true)\n",
            " |-- age: double (nullable = true)\n",
            " |-- hypertension: integer (nullable = true)\n",
            " |-- heart_disease: integer (nullable = true)\n",
            " |-- ever_married: string (nullable = true)\n",
            " |-- work_type: string (nullable = true)\n",
            " |-- Residence_type: string (nullable = true)\n",
            " |-- avg_glucose_level: double (nullable = true)\n",
            " |-- bmi: double (nullable = true)\n",
            " |-- smoking_status: string (nullable = true)\n",
            " |-- stroke: integer (nullable = true)\n",
            "\n"
          ]
        }
      ]
    },
    {
      "cell_type": "code",
      "source": [
        "df.describe().show()"
      ],
      "metadata": {
        "colab": {
          "base_uri": "https://localhost:8080/"
        },
        "id": "n4j6IypyQNdA",
        "outputId": "86bc10be-5483-47bd-8ec9-d248939affb3"
      },
      "execution_count": 10,
      "outputs": [
        {
          "output_type": "stream",
          "name": "stdout",
          "text": [
            "+-------+------+-----------------+-------------------+--------------------+------------+---------+--------------+------------------+------------------+--------------+--------------------+\n",
            "|summary|gender|              age|       hypertension|       heart_disease|ever_married|work_type|Residence_type| avg_glucose_level|               bmi|smoking_status|              stroke|\n",
            "+-------+------+-----------------+-------------------+--------------------+------------+---------+--------------+------------------+------------------+--------------+--------------------+\n",
            "|  count|  4981|             4981|               4981|                4981|        4981|     4981|          4981|              4981|              4981|          4981|                4981|\n",
            "|   mean|  null| 43.4198594659707|0.09616542862878939|0.055209797229471995|        null|     null|          null|105.94356153382824|28.498173057619002|          null|0.049789198956032926|\n",
            "| stddev|  null|22.66275507369848|0.29484757470019735|  0.2284122364309422|        null|     null|          null|45.075372808429975| 6.790463626292752|          null| 0.21753099703366993|\n",
            "|    min|Female|             0.08|                  0|                   0|          No| Govt_job|         Rural|             55.12|              14.0|       Unknown|                   0|\n",
            "|    max|  Male|             82.0|                  1|                   1|         Yes| children|         Urban|            271.74|              48.9|        smokes|                   1|\n",
            "+-------+------+-----------------+-------------------+--------------------+------------+---------+--------------+------------------+------------------+--------------+--------------------+\n",
            "\n"
          ]
        }
      ]
    },
    {
      "cell_type": "code",
      "source": [
        "df.groupBy('stroke').count().show()"
      ],
      "metadata": {
        "colab": {
          "base_uri": "https://localhost:8080/"
        },
        "id": "wSixGiE6QW2n",
        "outputId": "aaf4816c-2b2d-4743-e750-60366ea40cf1"
      },
      "execution_count": 11,
      "outputs": [
        {
          "output_type": "stream",
          "name": "stdout",
          "text": [
            "+------+-----+\n",
            "|stroke|count|\n",
            "+------+-----+\n",
            "|     1|  248|\n",
            "|     0| 4733|\n",
            "+------+-----+\n",
            "\n"
          ]
        }
      ]
    },
    {
      "cell_type": "code",
      "source": [
        "fig = plt.figure(figsize=(25,15)) ## Plot Size\n",
        "st = fig.suptitle(\"Distribution of Features\", fontsize=50,\n",
        "                  verticalalignment='center') # Plot Main Title\n",
        "\n",
        "for col,num in zip(df.toPandas().describe().columns, range(1,11)):\n",
        "    ax = fig.add_subplot(3,4,num)\n",
        "    ax.hist(df.toPandas()[col])\n",
        "\n",
        "    plt.grid(False)\n",
        "    plt.xticks(rotation=45,fontsize=10)\n",
        "    plt.yticks(fontsize=10)\n",
        "    plt.title(col.upper(),fontsize=20)\n",
        "plt.tight_layout()\n",
        "st.set_y(0.95)\n",
        "fig.subplots_adjust(top=0.85,hspace = 0.4)\n",
        "plt.show()"
      ],
      "metadata": {
        "colab": {
          "base_uri": "https://localhost:8080/",
          "height": 534
        },
        "id": "0dM9XEQRQmie",
        "outputId": "2682a06c-bd7d-448e-9506-cf88c2100ba4"
      },
      "execution_count": 12,
      "outputs": [
        {
          "output_type": "display_data",
          "data": {
            "text/plain": [
              "<Figure size 2500x1500 with 6 Axes>"
            ],
            "image/png": "[encoded data removed]"
          },
          "metadata": {}
        }
      ]
    },
    {
      "cell_type": "code",
      "source": [
        "df.corr('bmi','stroke')"
      ],
      "metadata": {
        "colab": {
          "base_uri": "https://localhost:8080/"
        },
        "id": "GSXCoh490iii",
        "outputId": "2d067017-1fe5-4710-d98a-4908d8d9443d"
      },
      "execution_count": 13,
      "outputs": [
        {
          "output_type": "execute_result",
          "data": {
            "text/plain": [
              "0.05692566277908676"
            ]
          },
          "metadata": {},
          "execution_count": 13
        }
      ]
    },
    {
      "cell_type": "code",
      "source": [
        "df.corr('hypertension','stroke')"
      ],
      "metadata": {
        "colab": {
          "base_uri": "https://localhost:8080/"
        },
        "id": "0Lzn1SpH0yFy",
        "outputId": "86883d22-ed94-42d5-981d-270250cedafb"
      },
      "execution_count": 14,
      "outputs": [
        {
          "output_type": "execute_result",
          "data": {
            "text/plain": [
              "0.13196524198200293"
            ]
          },
          "metadata": {},
          "execution_count": 14
        }
      ]
    },
    {
      "cell_type": "code",
      "source": [
        "df.corr('heart_disease','stroke')"
      ],
      "metadata": {
        "colab": {
          "base_uri": "https://localhost:8080/"
        },
        "id": "Nm6EUWun1DnL",
        "outputId": "45afc628-c40a-4f26-8572-ac6fc2961875"
      },
      "execution_count": 15,
      "outputs": [
        {
          "output_type": "execute_result",
          "data": {
            "text/plain": [
              "0.13461030532204826"
            ]
          },
          "metadata": {},
          "execution_count": 15
        }
      ]
    },
    {
      "cell_type": "code",
      "source": [
        "df.corr('age','stroke')"
      ],
      "metadata": {
        "colab": {
          "base_uri": "https://localhost:8080/"
        },
        "id": "U1wGojTa1JOD",
        "outputId": "98db06d4-2263-4204-ca48-616ca2300c9f"
      },
      "execution_count": 16,
      "outputs": [
        {
          "output_type": "execute_result",
          "data": {
            "text/plain": [
              "0.2464778740312734"
            ]
          },
          "metadata": {},
          "execution_count": 16
        }
      ]
    },
    {
      "cell_type": "code",
      "source": [
        "df.corr('avg_glucose_level','stroke')"
      ],
      "metadata": {
        "colab": {
          "base_uri": "https://localhost:8080/"
        },
        "id": "RtvpVWGq1JdO",
        "outputId": "b15bb582-6c33-448a-c2ab-ad28f60272ec"
      },
      "execution_count": 17,
      "outputs": [
        {
          "output_type": "execute_result",
          "data": {
            "text/plain": [
              "0.1332273266331388"
            ]
          },
          "metadata": {},
          "execution_count": 17
        }
      ]
    },
    {
      "cell_type": "markdown",
      "source": [
        "## Using Spark SQL"
      ],
      "metadata": {
        "id": "BHnYfU5Zjb8E"
      }
    },
    {
      "cell_type": "code",
      "source": [
        "df.columns"
      ],
      "metadata": {
        "colab": {
          "base_uri": "https://localhost:8080/"
        },
        "id": "kgnngqn_joD6",
        "outputId": "ec53a02c-0c99-4ef5-b391-cce1b8415a3d"
      },
      "execution_count": 18,
      "outputs": [
        {
          "output_type": "execute_result",
          "data": {
            "text/plain": [
              "['gender',\n",
              " 'age',\n",
              " 'hypertension',\n",
              " 'heart_disease',\n",
              " 'ever_married',\n",
              " 'work_type',\n",
              " 'Residence_type',\n",
              " 'avg_glucose_level',\n",
              " 'bmi',\n",
              " 'smoking_status',\n",
              " 'stroke']"
            ]
          },
          "metadata": {},
          "execution_count": 18
        }
      ]
    },
    {
      "cell_type": "code",
      "source": [
        "# create DataFrame as a temporary view\n",
        "df.createOrReplaceTempView('brain_stroke_T')"
      ],
      "metadata": {
        "id": "BYmUYkv5jVwb"
      },
      "execution_count": 19,
      "outputs": []
    },
    {
      "cell_type": "code",
      "source": [
        "#group by gender\n",
        "spark.sql(\\\n",
        "          \"SELECT \\\n",
        "           gender, count(gender) as count_gender, \\\n",
        "           count(gender)*100/sum(count(gender)) over() as percent  \\\n",
        "           FROM brain_stroke_T GROUP BY gender\" \\\n",
        "           ).show()"
      ],
      "metadata": {
        "colab": {
          "base_uri": "https://localhost:8080/"
        },
        "id": "ijhBPPS0jkZc",
        "outputId": "2a036882-c063-490d-80b8-9c3f521d414f"
      },
      "execution_count": 20,
      "outputs": [
        {
          "output_type": "stream",
          "name": "stdout",
          "text": [
            "+------+------------+----------------+\n",
            "|gender|count_gender|         percent|\n",
            "+------+------------+----------------+\n",
            "|Female|        2907|58.3617747440273|\n",
            "|  Male|        2074|41.6382252559727|\n",
            "+------+------------+----------------+\n",
            "\n"
          ]
        }
      ]
    },
    {
      "cell_type": "code",
      "source": [
        "#group by gender having brain stroke\n",
        "spark.sql(\\\n",
        "          \"SELECT gender, count(gender), \\\n",
        "          round((COUNT(gender) * 100.0) /(SELECT count(gender) FROM brain_stroke_T ),2) as percentage \\\n",
        "          FROM brain_stroke_T WHERE stroke = '1'  GROUP BY gender\"\\\n",
        "          ).show()"
      ],
      "metadata": {
        "colab": {
          "base_uri": "https://localhost:8080/"
        },
        "id": "8scQqZutjzna",
        "outputId": "434461ce-c790-45d9-9a62-c84990e56af1"
      },
      "execution_count": 21,
      "outputs": [
        {
          "output_type": "stream",
          "name": "stdout",
          "text": [
            "+------+-------------+----------+\n",
            "|gender|count(gender)|percentage|\n",
            "+------+-------------+----------+\n",
            "|Female|          140|      2.81|\n",
            "|  Male|          108|      2.17|\n",
            "+------+-------------+----------+\n",
            "\n"
          ]
        }
      ]
    },
    {
      "cell_type": "code",
      "source": [
        "#group by gender having heart disease\n",
        "spark.sql(\\\n",
        "          \"SELECT gender, count(gender), \\\n",
        "          round((COUNT(gender) * 100.0) /(SELECT count(gender) FROM brain_stroke_T ),2) as percentage \\\n",
        "          FROM brain_stroke_T WHERE heart_disease = '1'  GROUP BY gender\"\\\n",
        "          ).show()"
      ],
      "metadata": {
        "colab": {
          "base_uri": "https://localhost:8080/"
        },
        "id": "fNSmtKmAkSvo",
        "outputId": "70d4bdf5-7dfa-4a7b-aa5c-2cfb0635ca55"
      },
      "execution_count": 22,
      "outputs": [
        {
          "output_type": "stream",
          "name": "stdout",
          "text": [
            "+------+-------------+----------+\n",
            "|gender|count(gender)|percentage|\n",
            "+------+-------------+----------+\n",
            "|Female|          112|      2.25|\n",
            "|  Male|          163|      3.27|\n",
            "+------+-------------+----------+\n",
            "\n"
          ]
        }
      ]
    },
    {
      "cell_type": "code",
      "source": [
        "#group by gender having hypertension\n",
        "spark.sql(\\\n",
        "          \"SELECT gender, count(gender), \\\n",
        "          round((COUNT(gender) * 100.0) /(SELECT count(gender) FROM brain_stroke_T ),2) as percentage \\\n",
        "          FROM brain_stroke_T WHERE hypertension = '1'  GROUP BY gender\"\\\n",
        "          ).show()"
      ],
      "metadata": {
        "colab": {
          "base_uri": "https://localhost:8080/"
        },
        "id": "9sFWj-e5kc3H",
        "outputId": "18f5bbec-72a7-4648-b84b-1c9a0b32bafb"
      },
      "execution_count": 23,
      "outputs": [
        {
          "output_type": "stream",
          "name": "stdout",
          "text": [
            "+------+-------------+----------+\n",
            "|gender|count(gender)|percentage|\n",
            "+------+-------------+----------+\n",
            "|Female|          264|      5.30|\n",
            "|  Male|          215|      4.32|\n",
            "+------+-------------+----------+\n",
            "\n"
          ]
        }
      ]
    },
    {
      "cell_type": "code",
      "source": [
        "#count of different types of smoker\n",
        "df.groupBy('smoking_status').count().show()"
      ],
      "metadata": {
        "colab": {
          "base_uri": "https://localhost:8080/"
        },
        "id": "ukah06H8ko6r",
        "outputId": "b9fe113a-71fc-4f5f-d14b-e171b41fd7a8"
      },
      "execution_count": 24,
      "outputs": [
        {
          "output_type": "stream",
          "name": "stdout",
          "text": [
            "+---------------+-----+\n",
            "| smoking_status|count|\n",
            "+---------------+-----+\n",
            "|         smokes|  776|\n",
            "|        Unknown| 1500|\n",
            "|   never smoked| 1838|\n",
            "|formerly smoked|  867|\n",
            "+---------------+-----+\n",
            "\n"
          ]
        }
      ]
    },
    {
      "cell_type": "code",
      "source": [
        "#group by smoking_status having hypertension\n",
        "spark.sql(\\\n",
        "          \"SELECT smoking_status, count(smoking_status) as count, \\\n",
        "          round((COUNT(smoking_status) * 100.0) /(SELECT count(smoking_status) FROM brain_stroke_T ),2) as percentage \\\n",
        "          FROM brain_stroke_T   GROUP BY smoking_status\"\\\n",
        "          ).show()"
      ],
      "metadata": {
        "colab": {
          "base_uri": "https://localhost:8080/"
        },
        "id": "EVAHu2qOmkXo",
        "outputId": "e0369d76-52e1-466c-839c-57c89dd58b2f"
      },
      "execution_count": 25,
      "outputs": [
        {
          "output_type": "stream",
          "name": "stdout",
          "text": [
            "+---------------+-----+----------+\n",
            "| smoking_status|count|percentage|\n",
            "+---------------+-----+----------+\n",
            "|         smokes|  776|     15.58|\n",
            "|        Unknown| 1500|     30.11|\n",
            "|   never smoked| 1838|     36.90|\n",
            "|formerly smoked|  867|     17.41|\n",
            "+---------------+-----+----------+\n",
            "\n"
          ]
        }
      ]
    },
    {
      "cell_type": "code",
      "source": [
        "#Age vs stroke\n",
        "spark.sql(\"SELECT age, count(age) as age_count FROM brain_stroke_T WHERE stroke == 1 GROUP BY age ORDER BY age_count DESC\").show()"
      ],
      "metadata": {
        "colab": {
          "base_uri": "https://localhost:8080/"
        },
        "id": "co0at8plm5tj",
        "outputId": "af4246ca-1c06-4cea-e5e5-9ee1088e38c2"
      },
      "execution_count": 26,
      "outputs": [
        {
          "output_type": "stream",
          "name": "stdout",
          "text": [
            "+----+---------+\n",
            "| age|age_count|\n",
            "+----+---------+\n",
            "|78.0|       21|\n",
            "|80.0|       17|\n",
            "|79.0|       17|\n",
            "|81.0|       14|\n",
            "|57.0|       11|\n",
            "|76.0|       10|\n",
            "|63.0|        9|\n",
            "|82.0|        9|\n",
            "|74.0|        9|\n",
            "|68.0|        9|\n",
            "|77.0|        8|\n",
            "|59.0|        8|\n",
            "|71.0|        7|\n",
            "|58.0|        7|\n",
            "|70.0|        6|\n",
            "|69.0|        6|\n",
            "|75.0|        6|\n",
            "|72.0|        6|\n",
            "|61.0|        6|\n",
            "|54.0|        6|\n",
            "+----+---------+\n",
            "only showing top 20 rows\n",
            "\n"
          ]
        }
      ]
    },
    {
      "cell_type": "code",
      "source": [
        "#count of brain stroke patients over age 50\n",
        "df.filter((df['stroke'] == 1) & (df['age'] > '50')).count()\n"
      ],
      "metadata": {
        "colab": {
          "base_uri": "https://localhost:8080/"
        },
        "id": "fbFeaM-wnCih",
        "outputId": "aa357cc0-a3a6-4553-8d68-1bca1a6174ce"
      },
      "execution_count": 27,
      "outputs": [
        {
          "output_type": "execute_result",
          "data": {
            "text/plain": [
              "226"
            ]
          },
          "metadata": {},
          "execution_count": 27
        }
      ]
    },
    {
      "cell_type": "markdown",
      "source": [
        "## Data Preprocessing"
      ],
      "metadata": {
        "id": "hUr9GBPKnkxz"
      }
    },
    {
      "cell_type": "code",
      "source": [
        "#checking null values\n",
        "df.toPandas().isnull().sum()"
      ],
      "metadata": {
        "colab": {
          "base_uri": "https://localhost:8080/"
        },
        "id": "P6BxApK4nlTK",
        "outputId": "d0fd9dc9-4d8a-421a-c072-672cf61ab38c"
      },
      "execution_count": 28,
      "outputs": [
        {
          "output_type": "execute_result",
          "data": {
            "text/plain": [
              "gender               0\n",
              "age                  0\n",
              "hypertension         0\n",
              "heart_disease        0\n",
              "ever_married         0\n",
              "work_type            0\n",
              "Residence_type       0\n",
              "avg_glucose_level    0\n",
              "bmi                  0\n",
              "smoking_status       0\n",
              "stroke               0\n",
              "dtype: int64"
            ]
          },
          "metadata": {},
          "execution_count": 28
        }
      ]
    },
    {
      "cell_type": "code",
      "source": [
        "df.dtypes"
      ],
      "metadata": {
        "colab": {
          "base_uri": "https://localhost:8080/"
        },
        "id": "KAb2nFpHnpTa",
        "outputId": "0bbf963d-1ccb-4c17-c6e6-c3ea548d484c"
      },
      "execution_count": 29,
      "outputs": [
        {
          "output_type": "execute_result",
          "data": {
            "text/plain": [
              "[('gender', 'string'),\n",
              " ('age', 'double'),\n",
              " ('hypertension', 'int'),\n",
              " ('heart_disease', 'int'),\n",
              " ('ever_married', 'string'),\n",
              " ('work_type', 'string'),\n",
              " ('Residence_type', 'string'),\n",
              " ('avg_glucose_level', 'double'),\n",
              " ('bmi', 'double'),\n",
              " ('smoking_status', 'string'),\n",
              " ('stroke', 'int')]"
            ]
          },
          "metadata": {},
          "execution_count": 29
        }
      ]
    },
    {
      "cell_type": "code",
      "source": [
        "df.show()"
      ],
      "metadata": {
        "colab": {
          "base_uri": "https://localhost:8080/"
        },
        "id": "ehtKWB4Pn1tD",
        "outputId": "63097ece-6d84-43cf-a4be-83cc084e92e2"
      },
      "execution_count": 30,
      "outputs": [
        {
          "output_type": "stream",
          "name": "stdout",
          "text": [
            "+------+----+------------+-------------+------------+-------------+--------------+-----------------+----+---------------+------+\n",
            "|gender| age|hypertension|heart_disease|ever_married|    work_type|Residence_type|avg_glucose_level| bmi| smoking_status|stroke|\n",
            "+------+----+------------+-------------+------------+-------------+--------------+-----------------+----+---------------+------+\n",
            "|  Male|67.0|           0|            1|         Yes|      Private|         Urban|           228.69|36.6|formerly smoked|     1|\n",
            "|  Male|80.0|           0|            1|         Yes|      Private|         Rural|           105.92|32.5|   never smoked|     1|\n",
            "|Female|49.0|           0|            0|         Yes|      Private|         Urban|           171.23|34.4|         smokes|     1|\n",
            "|Female|79.0|           1|            0|         Yes|Self-employed|         Rural|           174.12|24.0|   never smoked|     1|\n",
            "|  Male|81.0|           0|            0|         Yes|      Private|         Urban|           186.21|29.0|formerly smoked|     1|\n",
            "|  Male|74.0|           1|            1|         Yes|      Private|         Rural|            70.09|27.4|   never smoked|     1|\n",
            "|Female|69.0|           0|            0|          No|      Private|         Urban|            94.39|22.8|   never smoked|     1|\n",
            "|Female|78.0|           0|            0|         Yes|      Private|         Urban|            58.57|24.2|        Unknown|     1|\n",
            "|Female|81.0|           1|            0|         Yes|      Private|         Rural|            80.43|29.7|   never smoked|     1|\n",
            "|Female|61.0|           0|            1|         Yes|     Govt_job|         Rural|           120.46|36.8|         smokes|     1|\n",
            "|Female|54.0|           0|            0|         Yes|      Private|         Urban|           104.51|27.3|         smokes|     1|\n",
            "|Female|79.0|           0|            1|         Yes|      Private|         Urban|           214.09|28.2|   never smoked|     1|\n",
            "|Female|50.0|           1|            0|         Yes|Self-employed|         Rural|           167.41|30.9|   never smoked|     1|\n",
            "|  Male|64.0|           0|            1|         Yes|      Private|         Urban|           191.61|37.5|         smokes|     1|\n",
            "|  Male|75.0|           1|            0|         Yes|      Private|         Urban|           221.29|25.8|         smokes|     1|\n",
            "|Female|60.0|           0|            0|          No|      Private|         Urban|            89.22|37.8|   never smoked|     1|\n",
            "|Female|71.0|           0|            0|         Yes|     Govt_job|         Rural|           193.94|22.4|         smokes|     1|\n",
            "|Female|52.0|           1|            0|         Yes|Self-employed|         Urban|           233.29|48.9|   never smoked|     1|\n",
            "|Female|79.0|           0|            0|         Yes|Self-employed|         Urban|            228.7|26.6|   never smoked|     1|\n",
            "|  Male|82.0|           0|            1|         Yes|      Private|         Rural|            208.3|32.5|        Unknown|     1|\n",
            "+------+----+------------+-------------+------------+-------------+--------------+-----------------+----+---------------+------+\n",
            "only showing top 20 rows\n",
            "\n"
          ]
        }
      ]
    },
    {
      "cell_type": "markdown",
      "source": [
        "# Serial Data Conversions"
      ],
      "metadata": {
        "id": "1saRMqq-n-wc"
      }
    },
    {
      "cell_type": "markdown",
      "source": [
        "## String Indexer"
      ],
      "metadata": {
        "id": "MM-7DcV4oEqq"
      }
    },
    {
      "cell_type": "code",
      "source": [
        "genderIndexer = StringIndexer(inputCol=\"gender\", outputCol=\"genderIndex\")\n",
        "ever_marriedIndexer = StringIndexer(inputCol=\"ever_married\", outputCol=\"ever_marriedIndex\")\n",
        "work_typeIndexer = StringIndexer(inputCol=\"work_type\", outputCol=\"work_typeIndex\")\n",
        "Residence_typeIndexer = StringIndexer(inputCol=\"Residence_type\", outputCol=\"Residence_typeIndex\")\n",
        "smoking_statusIndexer = StringIndexer(inputCol=\"smoking_status\", outputCol=\"smoking_statusIndex\")"
      ],
      "metadata": {
        "id": "dxWaKE-JoAX3"
      },
      "execution_count": 31,
      "outputs": []
    },
    {
      "cell_type": "code",
      "source": [
        "genderIndexer.fit(df).transform(df).show(5)"
      ],
      "metadata": {
        "colab": {
          "base_uri": "https://localhost:8080/"
        },
        "id": "FaOnIWCxp6Rb",
        "outputId": "f27c18ba-0476-4561-c1ba-8b3ef538fc4b"
      },
      "execution_count": 32,
      "outputs": [
        {
          "output_type": "stream",
          "name": "stdout",
          "text": [
            "+------+----+------------+-------------+------------+-------------+--------------+-----------------+----+---------------+------+-----------+\n",
            "|gender| age|hypertension|heart_disease|ever_married|    work_type|Residence_type|avg_glucose_level| bmi| smoking_status|stroke|genderIndex|\n",
            "+------+----+------------+-------------+------------+-------------+--------------+-----------------+----+---------------+------+-----------+\n",
            "|  Male|67.0|           0|            1|         Yes|      Private|         Urban|           228.69|36.6|formerly smoked|     1|        1.0|\n",
            "|  Male|80.0|           0|            1|         Yes|      Private|         Rural|           105.92|32.5|   never smoked|     1|        1.0|\n",
            "|Female|49.0|           0|            0|         Yes|      Private|         Urban|           171.23|34.4|         smokes|     1|        0.0|\n",
            "|Female|79.0|           1|            0|         Yes|Self-employed|         Rural|           174.12|24.0|   never smoked|     1|        0.0|\n",
            "|  Male|81.0|           0|            0|         Yes|      Private|         Urban|           186.21|29.0|formerly smoked|     1|        1.0|\n",
            "+------+----+------------+-------------+------------+-------------+--------------+-----------------+----+---------------+------+-----------+\n",
            "only showing top 5 rows\n",
            "\n"
          ]
        }
      ]
    },
    {
      "cell_type": "code",
      "source": [
        "ever_marriedIndexer.fit(df).transform(df).show(5)"
      ],
      "metadata": {
        "colab": {
          "base_uri": "https://localhost:8080/"
        },
        "id": "Hypvu1iSqA2B",
        "outputId": "56004e39-0433-42af-fc9d-5cddd58122d4"
      },
      "execution_count": 33,
      "outputs": [
        {
          "output_type": "stream",
          "name": "stdout",
          "text": [
            "+------+----+------------+-------------+------------+-------------+--------------+-----------------+----+---------------+------+-----------------+\n",
            "|gender| age|hypertension|heart_disease|ever_married|    work_type|Residence_type|avg_glucose_level| bmi| smoking_status|stroke|ever_marriedIndex|\n",
            "+------+----+------------+-------------+------------+-------------+--------------+-----------------+----+---------------+------+-----------------+\n",
            "|  Male|67.0|           0|            1|         Yes|      Private|         Urban|           228.69|36.6|formerly smoked|     1|              0.0|\n",
            "|  Male|80.0|           0|            1|         Yes|      Private|         Rural|           105.92|32.5|   never smoked|     1|              0.0|\n",
            "|Female|49.0|           0|            0|         Yes|      Private|         Urban|           171.23|34.4|         smokes|     1|              0.0|\n",
            "|Female|79.0|           1|            0|         Yes|Self-employed|         Rural|           174.12|24.0|   never smoked|     1|              0.0|\n",
            "|  Male|81.0|           0|            0|         Yes|      Private|         Urban|           186.21|29.0|formerly smoked|     1|              0.0|\n",
            "+------+----+------------+-------------+------------+-------------+--------------+-----------------+----+---------------+------+-----------------+\n",
            "only showing top 5 rows\n",
            "\n"
          ]
        }
      ]
    },
    {
      "cell_type": "code",
      "source": [
        "work_typeIndexer.fit(df).transform(df).show(5)"
      ],
      "metadata": {
        "colab": {
          "base_uri": "https://localhost:8080/"
        },
        "id": "kTXOphTDqA4x",
        "outputId": "8a3d9c41-0094-462e-f0ae-d12a4d425402"
      },
      "execution_count": 34,
      "outputs": [
        {
          "output_type": "stream",
          "name": "stdout",
          "text": [
            "+------+----+------------+-------------+------------+-------------+--------------+-----------------+----+---------------+------+--------------+\n",
            "|gender| age|hypertension|heart_disease|ever_married|    work_type|Residence_type|avg_glucose_level| bmi| smoking_status|stroke|work_typeIndex|\n",
            "+------+----+------------+-------------+------------+-------------+--------------+-----------------+----+---------------+------+--------------+\n",
            "|  Male|67.0|           0|            1|         Yes|      Private|         Urban|           228.69|36.6|formerly smoked|     1|           0.0|\n",
            "|  Male|80.0|           0|            1|         Yes|      Private|         Rural|           105.92|32.5|   never smoked|     1|           0.0|\n",
            "|Female|49.0|           0|            0|         Yes|      Private|         Urban|           171.23|34.4|         smokes|     1|           0.0|\n",
            "|Female|79.0|           1|            0|         Yes|Self-employed|         Rural|           174.12|24.0|   never smoked|     1|           1.0|\n",
            "|  Male|81.0|           0|            0|         Yes|      Private|         Urban|           186.21|29.0|formerly smoked|     1|           0.0|\n",
            "+------+----+------------+-------------+------------+-------------+--------------+-----------------+----+---------------+------+--------------+\n",
            "only showing top 5 rows\n",
            "\n"
          ]
        }
      ]
    },
    {
      "cell_type": "code",
      "source": [
        "Residence_typeIndexer.fit(df).transform(df).show(5)"
      ],
      "metadata": {
        "colab": {
          "base_uri": "https://localhost:8080/"
        },
        "id": "GGIo6A50qA7d",
        "outputId": "39704de9-e75a-4486-9ad1-959aa2012406"
      },
      "execution_count": 35,
      "outputs": [
        {
          "output_type": "stream",
          "name": "stdout",
          "text": [
            "+------+----+------------+-------------+------------+-------------+--------------+-----------------+----+---------------+------+-------------------+\n",
            "|gender| age|hypertension|heart_disease|ever_married|    work_type|Residence_type|avg_glucose_level| bmi| smoking_status|stroke|Residence_typeIndex|\n",
            "+------+----+------------+-------------+------------+-------------+--------------+-----------------+----+---------------+------+-------------------+\n",
            "|  Male|67.0|           0|            1|         Yes|      Private|         Urban|           228.69|36.6|formerly smoked|     1|                0.0|\n",
            "|  Male|80.0|           0|            1|         Yes|      Private|         Rural|           105.92|32.5|   never smoked|     1|                1.0|\n",
            "|Female|49.0|           0|            0|         Yes|      Private|         Urban|           171.23|34.4|         smokes|     1|                0.0|\n",
            "|Female|79.0|           1|            0|         Yes|Self-employed|         Rural|           174.12|24.0|   never smoked|     1|                1.0|\n",
            "|  Male|81.0|           0|            0|         Yes|      Private|         Urban|           186.21|29.0|formerly smoked|     1|                0.0|\n",
            "+------+----+------------+-------------+------------+-------------+--------------+-----------------+----+---------------+------+-------------------+\n",
            "only showing top 5 rows\n",
            "\n"
          ]
        }
      ]
    },
    {
      "cell_type": "code",
      "source": [
        "smoking_statusIndexer.fit(df).transform(df).show(5)"
      ],
      "metadata": {
        "colab": {
          "base_uri": "https://localhost:8080/"
        },
        "id": "rfgvW_wcqA-i",
        "outputId": "1505b666-bb98-4fa7-a6af-b2aca031c07b"
      },
      "execution_count": 36,
      "outputs": [
        {
          "output_type": "stream",
          "name": "stdout",
          "text": [
            "+------+----+------------+-------------+------------+-------------+--------------+-----------------+----+---------------+------+-------------------+\n",
            "|gender| age|hypertension|heart_disease|ever_married|    work_type|Residence_type|avg_glucose_level| bmi| smoking_status|stroke|smoking_statusIndex|\n",
            "+------+----+------------+-------------+------------+-------------+--------------+-----------------+----+---------------+------+-------------------+\n",
            "|  Male|67.0|           0|            1|         Yes|      Private|         Urban|           228.69|36.6|formerly smoked|     1|                2.0|\n",
            "|  Male|80.0|           0|            1|         Yes|      Private|         Rural|           105.92|32.5|   never smoked|     1|                0.0|\n",
            "|Female|49.0|           0|            0|         Yes|      Private|         Urban|           171.23|34.4|         smokes|     1|                3.0|\n",
            "|Female|79.0|           1|            0|         Yes|Self-employed|         Rural|           174.12|24.0|   never smoked|     1|                0.0|\n",
            "|  Male|81.0|           0|            0|         Yes|      Private|         Urban|           186.21|29.0|formerly smoked|     1|                2.0|\n",
            "+------+----+------------+-------------+------------+-------------+--------------+-----------------+----+---------------+------+-------------------+\n",
            "only showing top 5 rows\n",
            "\n"
          ]
        }
      ]
    },
    {
      "cell_type": "markdown",
      "source": [
        "##One Hot Encoder"
      ],
      "metadata": {
        "id": "AmKSuLWYqdL5"
      }
    },
    {
      "cell_type": "code",
      "source": [
        "OHE_gender = OneHotEncoder(inputCols=[\"genderIndex\"], outputCols=[\"genderVec\"])\n",
        "OHE_ever_married = OneHotEncoder(inputCols=[\"ever_marriedIndex\"], outputCols=[\"ever_marriedVec\"])\n",
        "OHE_work_type = OneHotEncoder(inputCols=[\"work_typeIndex\"], outputCols=[\"work_typeVec\"])\n",
        "OHE_Residence_type = OneHotEncoder(inputCols=[\"Residence_typeIndex\"], outputCols=[\"Residence_typeVec\"])\n",
        "OHE_smoking_status = OneHotEncoder(inputCols=[\"smoking_statusIndex\"], outputCols=[\"smoking_statusVec\"])"
      ],
      "metadata": {
        "id": "gfIAFqBEqBAa"
      },
      "execution_count": 37,
      "outputs": []
    },
    {
      "cell_type": "code",
      "source": [
        "OHE_gender.fit(genderIndexer.fit(df).transform(df)).transform(genderIndexer.fit(df).transform(df)).show(3)"
      ],
      "metadata": {
        "colab": {
          "base_uri": "https://localhost:8080/"
        },
        "id": "R1QVS4uCrfb5",
        "outputId": "a592d168-ee29-4fb8-9be2-91123b52484b"
      },
      "execution_count": 38,
      "outputs": [
        {
          "output_type": "stream",
          "name": "stdout",
          "text": [
            "+------+----+------------+-------------+------------+---------+--------------+-----------------+----+---------------+------+-----------+-------------+\n",
            "|gender| age|hypertension|heart_disease|ever_married|work_type|Residence_type|avg_glucose_level| bmi| smoking_status|stroke|genderIndex|    genderVec|\n",
            "+------+----+------------+-------------+------------+---------+--------------+-----------------+----+---------------+------+-----------+-------------+\n",
            "|  Male|67.0|           0|            1|         Yes|  Private|         Urban|           228.69|36.6|formerly smoked|     1|        1.0|    (1,[],[])|\n",
            "|  Male|80.0|           0|            1|         Yes|  Private|         Rural|           105.92|32.5|   never smoked|     1|        1.0|    (1,[],[])|\n",
            "|Female|49.0|           0|            0|         Yes|  Private|         Urban|           171.23|34.4|         smokes|     1|        0.0|(1,[0],[1.0])|\n",
            "+------+----+------------+-------------+------------+---------+--------------+-----------------+----+---------------+------+-----------+-------------+\n",
            "only showing top 3 rows\n",
            "\n"
          ]
        }
      ]
    },
    {
      "cell_type": "code",
      "source": [
        "OHE_ever_married.fit(ever_marriedIndexer.fit(df).transform(df)).transform(ever_marriedIndexer.fit(df).transform(df)).show(3)"
      ],
      "metadata": {
        "colab": {
          "base_uri": "https://localhost:8080/"
        },
        "id": "TnjVyiknr9ni",
        "outputId": "ecab48a4-1720-4335-8ac4-baed40c39af6"
      },
      "execution_count": 39,
      "outputs": [
        {
          "output_type": "stream",
          "name": "stdout",
          "text": [
            "+------+----+------------+-------------+------------+---------+--------------+-----------------+----+---------------+------+-----------------+---------------+\n",
            "|gender| age|hypertension|heart_disease|ever_married|work_type|Residence_type|avg_glucose_level| bmi| smoking_status|stroke|ever_marriedIndex|ever_marriedVec|\n",
            "+------+----+------------+-------------+------------+---------+--------------+-----------------+----+---------------+------+-----------------+---------------+\n",
            "|  Male|67.0|           0|            1|         Yes|  Private|         Urban|           228.69|36.6|formerly smoked|     1|              0.0|  (1,[0],[1.0])|\n",
            "|  Male|80.0|           0|            1|         Yes|  Private|         Rural|           105.92|32.5|   never smoked|     1|              0.0|  (1,[0],[1.0])|\n",
            "|Female|49.0|           0|            0|         Yes|  Private|         Urban|           171.23|34.4|         smokes|     1|              0.0|  (1,[0],[1.0])|\n",
            "+------+----+------------+-------------+------------+---------+--------------+-----------------+----+---------------+------+-----------------+---------------+\n",
            "only showing top 3 rows\n",
            "\n"
          ]
        }
      ]
    },
    {
      "cell_type": "code",
      "source": [
        "OHE_work_type.fit(work_typeIndexer.fit(df).transform(df)).transform(work_typeIndexer.fit(df).transform(df)).show(3)"
      ],
      "metadata": {
        "colab": {
          "base_uri": "https://localhost:8080/"
        },
        "id": "WPiag58tr9zL",
        "outputId": "72ea151d-b4e5-4a89-9ffe-a621572cfe53"
      },
      "execution_count": 40,
      "outputs": [
        {
          "output_type": "stream",
          "name": "stdout",
          "text": [
            "+------+----+------------+-------------+------------+---------+--------------+-----------------+----+---------------+------+--------------+-------------+\n",
            "|gender| age|hypertension|heart_disease|ever_married|work_type|Residence_type|avg_glucose_level| bmi| smoking_status|stroke|work_typeIndex| work_typeVec|\n",
            "+------+----+------------+-------------+------------+---------+--------------+-----------------+----+---------------+------+--------------+-------------+\n",
            "|  Male|67.0|           0|            1|         Yes|  Private|         Urban|           228.69|36.6|formerly smoked|     1|           0.0|(3,[0],[1.0])|\n",
            "|  Male|80.0|           0|            1|         Yes|  Private|         Rural|           105.92|32.5|   never smoked|     1|           0.0|(3,[0],[1.0])|\n",
            "|Female|49.0|           0|            0|         Yes|  Private|         Urban|           171.23|34.4|         smokes|     1|           0.0|(3,[0],[1.0])|\n",
            "+------+----+------------+-------------+------------+---------+--------------+-----------------+----+---------------+------+--------------+-------------+\n",
            "only showing top 3 rows\n",
            "\n"
          ]
        }
      ]
    },
    {
      "cell_type": "code",
      "source": [
        "OHE_Residence_type.fit(Residence_typeIndexer.fit(df).transform(df)).transform(Residence_typeIndexer.fit(df).transform(df)).show(3)"
      ],
      "metadata": {
        "colab": {
          "base_uri": "https://localhost:8080/"
        },
        "id": "y5u7PGSEr98o",
        "outputId": "71cb8127-9a4b-4907-828e-35a8742d8981"
      },
      "execution_count": 41,
      "outputs": [
        {
          "output_type": "stream",
          "name": "stdout",
          "text": [
            "+------+----+------------+-------------+------------+---------+--------------+-----------------+----+---------------+------+-------------------+-----------------+\n",
            "|gender| age|hypertension|heart_disease|ever_married|work_type|Residence_type|avg_glucose_level| bmi| smoking_status|stroke|Residence_typeIndex|Residence_typeVec|\n",
            "+------+----+------------+-------------+------------+---------+--------------+-----------------+----+---------------+------+-------------------+-----------------+\n",
            "|  Male|67.0|           0|            1|         Yes|  Private|         Urban|           228.69|36.6|formerly smoked|     1|                0.0|    (1,[0],[1.0])|\n",
            "|  Male|80.0|           0|            1|         Yes|  Private|         Rural|           105.92|32.5|   never smoked|     1|                1.0|        (1,[],[])|\n",
            "|Female|49.0|           0|            0|         Yes|  Private|         Urban|           171.23|34.4|         smokes|     1|                0.0|    (1,[0],[1.0])|\n",
            "+------+----+------------+-------------+------------+---------+--------------+-----------------+----+---------------+------+-------------------+-----------------+\n",
            "only showing top 3 rows\n",
            "\n"
          ]
        }
      ]
    },
    {
      "cell_type": "code",
      "source": [
        "OHE_smoking_status.fit(smoking_statusIndexer.fit(df).transform(df)).transform(smoking_statusIndexer.fit(df).transform(df)).show(3)"
      ],
      "metadata": {
        "colab": {
          "base_uri": "https://localhost:8080/"
        },
        "id": "eFaOEukor-Gi",
        "outputId": "8fad4f66-65b0-411e-9c4d-f2ec88810fb9"
      },
      "execution_count": 42,
      "outputs": [
        {
          "output_type": "stream",
          "name": "stdout",
          "text": [
            "+------+----+------------+-------------+------------+---------+--------------+-----------------+----+---------------+------+-------------------+-----------------+\n",
            "|gender| age|hypertension|heart_disease|ever_married|work_type|Residence_type|avg_glucose_level| bmi| smoking_status|stroke|smoking_statusIndex|smoking_statusVec|\n",
            "+------+----+------------+-------------+------------+---------+--------------+-----------------+----+---------------+------+-------------------+-----------------+\n",
            "|  Male|67.0|           0|            1|         Yes|  Private|         Urban|           228.69|36.6|formerly smoked|     1|                2.0|    (3,[2],[1.0])|\n",
            "|  Male|80.0|           0|            1|         Yes|  Private|         Rural|           105.92|32.5|   never smoked|     1|                0.0|    (3,[0],[1.0])|\n",
            "|Female|49.0|           0|            0|         Yes|  Private|         Urban|           171.23|34.4|         smokes|     1|                3.0|        (3,[],[])|\n",
            "+------+----+------------+-------------+------------+---------+--------------+-----------------+----+---------------+------+-------------------+-----------------+\n",
            "only showing top 3 rows\n",
            "\n"
          ]
        }
      ]
    },
    {
      "cell_type": "markdown",
      "source": [
        "##Assembler"
      ],
      "metadata": {
        "id": "PKuxIy26s94a"
      }
    },
    {
      "cell_type": "code",
      "source": [
        "df.columns"
      ],
      "metadata": {
        "colab": {
          "base_uri": "https://localhost:8080/"
        },
        "id": "o4ZSh-iks_kp",
        "outputId": "24c4528c-aa77-4dbb-be47-8c348f753716"
      },
      "execution_count": 43,
      "outputs": [
        {
          "output_type": "execute_result",
          "data": {
            "text/plain": [
              "['gender',\n",
              " 'age',\n",
              " 'hypertension',\n",
              " 'heart_disease',\n",
              " 'ever_married',\n",
              " 'work_type',\n",
              " 'Residence_type',\n",
              " 'avg_glucose_level',\n",
              " 'bmi',\n",
              " 'smoking_status',\n",
              " 'stroke']"
            ]
          },
          "metadata": {},
          "execution_count": 43
        }
      ]
    },
    {
      "cell_type": "code",
      "source": [
        "df.show(5)"
      ],
      "metadata": {
        "colab": {
          "base_uri": "https://localhost:8080/"
        },
        "id": "pX6N2PqltCOw",
        "outputId": "8e4c3b1e-add3-44d4-d6e8-3dbae3bf4fbd"
      },
      "execution_count": 44,
      "outputs": [
        {
          "output_type": "stream",
          "name": "stdout",
          "text": [
            "+------+----+------------+-------------+------------+-------------+--------------+-----------------+----+---------------+------+\n",
            "|gender| age|hypertension|heart_disease|ever_married|    work_type|Residence_type|avg_glucose_level| bmi| smoking_status|stroke|\n",
            "+------+----+------------+-------------+------------+-------------+--------------+-----------------+----+---------------+------+\n",
            "|  Male|67.0|           0|            1|         Yes|      Private|         Urban|           228.69|36.6|formerly smoked|     1|\n",
            "|  Male|80.0|           0|            1|         Yes|      Private|         Rural|           105.92|32.5|   never smoked|     1|\n",
            "|Female|49.0|           0|            0|         Yes|      Private|         Urban|           171.23|34.4|         smokes|     1|\n",
            "|Female|79.0|           1|            0|         Yes|Self-employed|         Rural|           174.12|24.0|   never smoked|     1|\n",
            "|  Male|81.0|           0|            0|         Yes|      Private|         Urban|           186.21|29.0|formerly smoked|     1|\n",
            "+------+----+------------+-------------+------------+-------------+--------------+-----------------+----+---------------+------+\n",
            "only showing top 5 rows\n",
            "\n"
          ]
        }
      ]
    },
    {
      "cell_type": "code",
      "source": [
        "F_assembler = VectorAssembler(inputCols=['genderVec', 'age', 'hypertension', 'heart_disease', 'bmi', 'smoking_statusVec', 'ever_marriedVec', 'Residence_typeVec', 'avg_glucose_level'],outputCol='X')"
      ],
      "metadata": {
        "id": "D_C4bfjBtt7m"
      },
      "execution_count": 45,
      "outputs": []
    },
    {
      "cell_type": "markdown",
      "source": [
        "#Train - Test Split"
      ],
      "metadata": {
        "id": "JO0tlDtnuaVU"
      }
    },
    {
      "cell_type": "code",
      "source": [
        "train_df,test_df = df.randomSplit([0.7,0.3])\n",
        "print(train_df.count())\n",
        "print(test_df.count())"
      ],
      "metadata": {
        "colab": {
          "base_uri": "https://localhost:8080/"
        },
        "id": "jRKgfCasuOj3",
        "outputId": "1e5425e4-d4b3-4d9a-b8f9-136843d989bf"
      },
      "execution_count": 46,
      "outputs": [
        {
          "output_type": "stream",
          "name": "stdout",
          "text": [
            "3470\n",
            "1511\n"
          ]
        }
      ]
    },
    {
      "cell_type": "code",
      "source": [
        "train_df.show(5)"
      ],
      "metadata": {
        "colab": {
          "base_uri": "https://localhost:8080/"
        },
        "id": "n0u3n9bvuh_J",
        "outputId": "1345b1bc-95a7-4bef-bbba-08c57aa59ac7"
      },
      "execution_count": 47,
      "outputs": [
        {
          "output_type": "stream",
          "name": "stdout",
          "text": [
            "+------+----+------------+-------------+------------+---------+--------------+-----------------+----+--------------+------+\n",
            "|gender| age|hypertension|heart_disease|ever_married|work_type|Residence_type|avg_glucose_level| bmi|smoking_status|stroke|\n",
            "+------+----+------------+-------------+------------+---------+--------------+-----------------+----+--------------+------+\n",
            "|Female|0.08|           0|            0|          No| children|         Urban|           139.67|14.1|       Unknown|     0|\n",
            "|Female| 0.4|           0|            0|          No| children|         Rural|            85.65|17.4|       Unknown|     0|\n",
            "|Female|0.48|           0|            0|          No| children|         Rural|            94.06|14.8|       Unknown|     0|\n",
            "|Female|0.56|           0|            0|          No| children|         Urban|            80.92|18.3|       Unknown|     0|\n",
            "|Female|0.64|           0|            0|          No| children|         Urban|            83.82|24.9|       Unknown|     0|\n",
            "+------+----+------------+-------------+------------+---------+--------------+-----------------+----+--------------+------+\n",
            "only showing top 5 rows\n",
            "\n"
          ]
        }
      ]
    },
    {
      "cell_type": "code",
      "source": [
        "test_df.show(5)"
      ],
      "metadata": {
        "colab": {
          "base_uri": "https://localhost:8080/"
        },
        "id": "FcvmJzi0ulBW",
        "outputId": "da7a0297-8582-4bfa-c8be-2702685772e8"
      },
      "execution_count": 48,
      "outputs": [
        {
          "output_type": "stream",
          "name": "stdout",
          "text": [
            "+------+----+------------+-------------+------------+---------+--------------+-----------------+----+--------------+------+\n",
            "|gender| age|hypertension|heart_disease|ever_married|work_type|Residence_type|avg_glucose_level| bmi|smoking_status|stroke|\n",
            "+------+----+------------+-------------+------------+---------+--------------+-----------------+----+--------------+------+\n",
            "|Female|0.32|           0|            0|          No| children|         Rural|            55.86|16.0|       Unknown|     0|\n",
            "|Female|0.32|           0|            0|          No| children|         Rural|            73.71|16.2|       Unknown|     0|\n",
            "|Female|0.32|           0|            0|          No| children|         Urban|           108.63|19.6|       Unknown|     0|\n",
            "|Female|0.48|           0|            0|          No| children|         Rural|           118.75|17.4|       Unknown|     0|\n",
            "|Female|0.64|           0|            0|          No| children|         Urban|            62.27|17.3|       Unknown|     0|\n",
            "+------+----+------------+-------------+------------+---------+--------------+-----------------+----+--------------+------+\n",
            "only showing top 5 rows\n",
            "\n"
          ]
        }
      ]
    },
    {
      "cell_type": "code",
      "source": [
        "basePipe = Pipeline(stages=[genderIndexer,ever_marriedIndexer,work_typeIndexer,Residence_typeIndexer,smoking_statusIndexer,OHE_gender,OHE_ever_married,\n",
        "                            OHE_work_type,OHE_Residence_type,OHE_smoking_status,F_assembler])\n",
        "basePipe.fit(df).transform(df).show(5)"
      ],
      "metadata": {
        "colab": {
          "base_uri": "https://localhost:8080/"
        },
        "id": "DNKaXeyDuq-B",
        "outputId": "77bb85a1-729f-4362-8f6b-a25e459b7705"
      },
      "execution_count": 49,
      "outputs": [
        {
          "output_type": "stream",
          "name": "stdout",
          "text": [
            "+------+----+------------+-------------+------------+-------------+--------------+-----------------+----+---------------+------+-----------+-----------------+--------------+-------------------+-------------------+-------------+---------------+-------------+-----------------+-----------------+--------------------+\n",
            "|gender| age|hypertension|heart_disease|ever_married|    work_type|Residence_type|avg_glucose_level| bmi| smoking_status|stroke|genderIndex|ever_marriedIndex|work_typeIndex|Residence_typeIndex|smoking_statusIndex|    genderVec|ever_marriedVec| work_typeVec|Residence_typeVec|smoking_statusVec|                   X|\n",
            "+------+----+------------+-------------+------------+-------------+--------------+-----------------+----+---------------+------+-----------+-----------------+--------------+-------------------+-------------------+-------------+---------------+-------------+-----------------+-----------------+--------------------+\n",
            "|  Male|67.0|           0|            1|         Yes|      Private|         Urban|           228.69|36.6|formerly smoked|     1|        1.0|              0.0|           0.0|                0.0|                2.0|    (1,[],[])|  (1,[0],[1.0])|(3,[0],[1.0])|    (1,[0],[1.0])|    (3,[2],[1.0])|[0.0,67.0,0.0,1.0...|\n",
            "|  Male|80.0|           0|            1|         Yes|      Private|         Rural|           105.92|32.5|   never smoked|     1|        1.0|              0.0|           0.0|                1.0|                0.0|    (1,[],[])|  (1,[0],[1.0])|(3,[0],[1.0])|        (1,[],[])|    (3,[0],[1.0])|(11,[1,3,4,5,8,10...|\n",
            "|Female|49.0|           0|            0|         Yes|      Private|         Urban|           171.23|34.4|         smokes|     1|        0.0|              0.0|           0.0|                0.0|                3.0|(1,[0],[1.0])|  (1,[0],[1.0])|(3,[0],[1.0])|    (1,[0],[1.0])|        (3,[],[])|(11,[0,1,4,8,9,10...|\n",
            "|Female|79.0|           1|            0|         Yes|Self-employed|         Rural|           174.12|24.0|   never smoked|     1|        0.0|              0.0|           1.0|                1.0|                0.0|(1,[0],[1.0])|  (1,[0],[1.0])|(3,[1],[1.0])|        (1,[],[])|    (3,[0],[1.0])|[1.0,79.0,1.0,0.0...|\n",
            "|  Male|81.0|           0|            0|         Yes|      Private|         Urban|           186.21|29.0|formerly smoked|     1|        1.0|              0.0|           0.0|                0.0|                2.0|    (1,[],[])|  (1,[0],[1.0])|(3,[0],[1.0])|    (1,[0],[1.0])|    (3,[2],[1.0])|(11,[1,4,7,8,9,10...|\n",
            "+------+----+------------+-------------+------------+-------------+--------------+-----------------+----+---------------+------+-----------+-----------------+--------------+-------------------+-------------------+-------------+---------------+-------------+-----------------+-----------------+--------------------+\n",
            "only showing top 5 rows\n",
            "\n"
          ]
        }
      ]
    },
    {
      "cell_type": "code",
      "source": [
        "def model(model):\n",
        "  model_pipeline = Pipeline(stages=[basePipe,model])\n",
        "  model = model_pipeline.fit(train_df)\n",
        "  model_predictions=model.transform(test_df)\n",
        "  model_predictions.show(5)\n",
        "  acc_evaluator = MulticlassClassificationEvaluator(labelCol=\"stroke\", predictionCol=\"prediction\", metricName=\"accuracy\")\n",
        "  evaluator = BinaryClassificationEvaluator(labelCol='stroke')\n",
        "  model_acc=acc_evaluator.evaluate(model_predictions)\n",
        "  print(round(model_acc,3), 'is the accuray of the model pipeline')\n",
        "  model_auroc = evaluator.evaluate(model_predictions, {evaluator.metricName: \"areaUnderROC\"})\n",
        "  print(\"Area under ROC Curve: {:.4f}\".format(model_auroc))\n"
      ],
      "metadata": {
        "id": "odweDaqgvOQa"
      },
      "execution_count": 50,
      "outputs": []
    },
    {
      "cell_type": "markdown",
      "source": [
        "#Logistic Regression"
      ],
      "metadata": {
        "id": "fYd2cOf9viPi"
      }
    },
    {
      "cell_type": "code",
      "source": [
        "lr = LogisticRegression(labelCol='stroke',featuresCol='X',maxIter=5)\n",
        "model(lr)"
      ],
      "metadata": {
        "colab": {
          "base_uri": "https://localhost:8080/"
        },
        "id": "4pLZIflzvlWF",
        "outputId": "7bc269e7-10a9-41c4-86ba-337e0c5cf1f1"
      },
      "execution_count": 51,
      "outputs": [
        {
          "output_type": "stream",
          "name": "stdout",
          "text": [
            "+------+----+------------+-------------+------------+---------+--------------+-----------------+----+--------------+------+-----------+-----------------+--------------+-------------------+-------------------+-------------+---------------+-------------+-----------------+-----------------+--------------------+--------------------+--------------------+----------+\n",
            "|gender| age|hypertension|heart_disease|ever_married|work_type|Residence_type|avg_glucose_level| bmi|smoking_status|stroke|genderIndex|ever_marriedIndex|work_typeIndex|Residence_typeIndex|smoking_statusIndex|    genderVec|ever_marriedVec| work_typeVec|Residence_typeVec|smoking_statusVec|                   X|       rawPrediction|         probability|prediction|\n",
            "+------+----+------------+-------------+------------+---------+--------------+-----------------+----+--------------+------+-----------+-----------------+--------------+-------------------+-------------------+-------------+---------------+-------------+-----------------+-----------------+--------------------+--------------------+--------------------+----------+\n",
            "|Female|0.32|           0|            0|          No| children|         Rural|            55.86|16.0|       Unknown|     0|        0.0|              1.0|           2.0|                1.0|                1.0|(1,[0],[1.0])|      (1,[],[])|(3,[2],[1.0])|        (1,[],[])|    (3,[1],[1.0])|(11,[0,1,4,6,10],...|[6.79986288015586...|[0.99888731157566...|       0.0|\n",
            "|Female|0.32|           0|            0|          No| children|         Rural|            73.71|16.2|       Unknown|     0|        0.0|              1.0|           2.0|                1.0|                1.0|(1,[0],[1.0])|      (1,[],[])|(3,[2],[1.0])|        (1,[],[])|    (3,[1],[1.0])|(11,[0,1,4,6,10],...|[6.72689845685047...|[0.99880319046432...|       0.0|\n",
            "|Female|0.32|           0|            0|          No| children|         Urban|           108.63|19.6|       Unknown|     0|        0.0|              1.0|           2.0|                0.0|                1.0|(1,[0],[1.0])|      (1,[],[])|(3,[2],[1.0])|    (1,[0],[1.0])|    (3,[1],[1.0])|(11,[0,1,4,6,9,10...|[6.59216964673296...|[0.99863081522321...|       0.0|\n",
            "|Female|0.48|           0|            0|          No| children|         Rural|           118.75|17.4|       Unknown|     0|        0.0|              1.0|           2.0|                1.0|                1.0|(1,[0],[1.0])|      (1,[],[])|(3,[2],[1.0])|        (1,[],[])|    (3,[1],[1.0])|(11,[0,1,4,6,10],...|[6.52604509714116...|[0.99853735496257...|       0.0|\n",
            "|Female|0.64|           0|            0|          No| children|         Urban|            62.27|17.3|       Unknown|     0|        0.0|              1.0|           2.0|                0.0|                1.0|(1,[0],[1.0])|      (1,[],[])|(3,[2],[1.0])|    (1,[0],[1.0])|    (3,[1],[1.0])|(11,[0,1,4,6,9,10...|[6.77538747627292...|[0.99885977350139...|       0.0|\n",
            "+------+----+------------+-------------+------------+---------+--------------+-----------------+----+--------------+------+-----------+-----------------+--------------+-------------------+-------------------+-------------+---------------+-------------+-----------------+-----------------+--------------------+--------------------+--------------------+----------+\n",
            "only showing top 5 rows\n",
            "\n",
            "0.95 is the accuray of the model pipeline\n",
            "Area under ROC Curve: 0.8295\n"
          ]
        }
      ]
    },
    {
      "cell_type": "markdown",
      "source": [
        "#Decision Tree Classifier"
      ],
      "metadata": {
        "id": "rQzGZFTZvu0b"
      }
    },
    {
      "cell_type": "code",
      "source": [
        "dt = DecisionTreeClassifier(labelCol='stroke',featuresCol='X')\n",
        "model(dt)"
      ],
      "metadata": {
        "colab": {
          "base_uri": "https://localhost:8080/"
        },
        "id": "UMiIkaJVvyYh",
        "outputId": "d8c8f5cc-41e9-4084-c6ed-d7d4f065cff5"
      },
      "execution_count": 52,
      "outputs": [
        {
          "output_type": "stream",
          "name": "stdout",
          "text": [
            "+------+----+------------+-------------+------------+---------+--------------+-----------------+----+--------------+------+-----------+-----------------+--------------+-------------------+-------------------+-------------+---------------+-------------+-----------------+-----------------+--------------------+-------------+--------------------+----------+\n",
            "|gender| age|hypertension|heart_disease|ever_married|work_type|Residence_type|avg_glucose_level| bmi|smoking_status|stroke|genderIndex|ever_marriedIndex|work_typeIndex|Residence_typeIndex|smoking_statusIndex|    genderVec|ever_marriedVec| work_typeVec|Residence_typeVec|smoking_statusVec|                   X|rawPrediction|         probability|prediction|\n",
            "+------+----+------------+-------------+------------+---------+--------------+-----------------+----+--------------+------+-----------+-----------------+--------------+-------------------+-------------------+-------------+---------------+-------------+-----------------+-----------------+--------------------+-------------+--------------------+----------+\n",
            "|Female|0.32|           0|            0|          No| children|         Rural|            55.86|16.0|       Unknown|     0|        0.0|              1.0|           2.0|                1.0|                1.0|(1,[0],[1.0])|      (1,[],[])|(3,[2],[1.0])|        (1,[],[])|    (3,[1],[1.0])|(11,[0,1,4,6,10],...|[2766.0,60.0]|[0.97876857749469...|       0.0|\n",
            "|Female|0.32|           0|            0|          No| children|         Rural|            73.71|16.2|       Unknown|     0|        0.0|              1.0|           2.0|                1.0|                1.0|(1,[0],[1.0])|      (1,[],[])|(3,[2],[1.0])|        (1,[],[])|    (3,[1],[1.0])|(11,[0,1,4,6,10],...|[2766.0,60.0]|[0.97876857749469...|       0.0|\n",
            "|Female|0.32|           0|            0|          No| children|         Urban|           108.63|19.6|       Unknown|     0|        0.0|              1.0|           2.0|                0.0|                1.0|(1,[0],[1.0])|      (1,[],[])|(3,[2],[1.0])|    (1,[0],[1.0])|    (3,[1],[1.0])|(11,[0,1,4,6,9,10...|[2766.0,60.0]|[0.97876857749469...|       0.0|\n",
            "|Female|0.48|           0|            0|          No| children|         Rural|           118.75|17.4|       Unknown|     0|        0.0|              1.0|           2.0|                1.0|                1.0|(1,[0],[1.0])|      (1,[],[])|(3,[2],[1.0])|        (1,[],[])|    (3,[1],[1.0])|(11,[0,1,4,6,10],...|[2766.0,60.0]|[0.97876857749469...|       0.0|\n",
            "|Female|0.64|           0|            0|          No| children|         Urban|            62.27|17.3|       Unknown|     0|        0.0|              1.0|           2.0|                0.0|                1.0|(1,[0],[1.0])|      (1,[],[])|(3,[2],[1.0])|    (1,[0],[1.0])|    (3,[1],[1.0])|(11,[0,1,4,6,9,10...|[2766.0,60.0]|[0.97876857749469...|       0.0|\n",
            "+------+----+------------+-------------+------------+---------+--------------+-----------------+----+--------------+------+-----------+-----------------+--------------+-------------------+-------------------+-------------+---------------+-------------+-----------------+-----------------+--------------------+-------------+--------------------+----------+\n",
            "only showing top 5 rows\n",
            "\n",
            "0.948 is the accuray of the model pipeline\n",
            "Area under ROC Curve: 0.3211\n"
          ]
        }
      ]
    },
    {
      "cell_type": "markdown",
      "source": [
        "#Random Forest"
      ],
      "metadata": {
        "id": "PAjNgnXEv4xt"
      }
    },
    {
      "cell_type": "code",
      "source": [
        "rf = RandomForestClassifier(labelCol = 'stroke',featuresCol = 'X')\n",
        "model(rf)"
      ],
      "metadata": {
        "colab": {
          "base_uri": "https://localhost:8080/"
        },
        "id": "8E0hBGlvv4Iv",
        "outputId": "f1791483-b687-4263-d6ce-5b7d1d0de574"
      },
      "execution_count": 53,
      "outputs": [
        {
          "output_type": "stream",
          "name": "stdout",
          "text": [
            "+------+----+------------+-------------+------------+---------+--------------+-----------------+----+--------------+------+-----------+-----------------+--------------+-------------------+-------------------+-------------+---------------+-------------+-----------------+-----------------+--------------------+--------------------+--------------------+----------+\n",
            "|gender| age|hypertension|heart_disease|ever_married|work_type|Residence_type|avg_glucose_level| bmi|smoking_status|stroke|genderIndex|ever_marriedIndex|work_typeIndex|Residence_typeIndex|smoking_statusIndex|    genderVec|ever_marriedVec| work_typeVec|Residence_typeVec|smoking_statusVec|                   X|       rawPrediction|         probability|prediction|\n",
            "+------+----+------------+-------------+------------+---------+--------------+-----------------+----+--------------+------+-----------+-----------------+--------------+-------------------+-------------------+-------------+---------------+-------------+-----------------+-----------------+--------------------+--------------------+--------------------+----------+\n",
            "|Female|0.32|           0|            0|          No| children|         Rural|            55.86|16.0|       Unknown|     0|        0.0|              1.0|           2.0|                1.0|                1.0|(1,[0],[1.0])|      (1,[],[])|(3,[2],[1.0])|        (1,[],[])|    (3,[1],[1.0])|(11,[0,1,4,6,10],...|[19.5843933859624...|[0.97921966929812...|       0.0|\n",
            "|Female|0.32|           0|            0|          No| children|         Rural|            73.71|16.2|       Unknown|     0|        0.0|              1.0|           2.0|                1.0|                1.0|(1,[0],[1.0])|      (1,[],[])|(3,[2],[1.0])|        (1,[],[])|    (3,[1],[1.0])|(11,[0,1,4,6,10],...|[19.5843933859624...|[0.97921966929812...|       0.0|\n",
            "|Female|0.32|           0|            0|          No| children|         Urban|           108.63|19.6|       Unknown|     0|        0.0|              1.0|           2.0|                0.0|                1.0|(1,[0],[1.0])|      (1,[],[])|(3,[2],[1.0])|    (1,[0],[1.0])|    (3,[1],[1.0])|(11,[0,1,4,6,9,10...|[19.5843933859624...|[0.97921966929812...|       0.0|\n",
            "|Female|0.48|           0|            0|          No| children|         Rural|           118.75|17.4|       Unknown|     0|        0.0|              1.0|           2.0|                1.0|                1.0|(1,[0],[1.0])|      (1,[],[])|(3,[2],[1.0])|        (1,[],[])|    (3,[1],[1.0])|(11,[0,1,4,6,10],...|[19.5843933859624...|[0.97921966929812...|       0.0|\n",
            "|Female|0.64|           0|            0|          No| children|         Urban|            62.27|17.3|       Unknown|     0|        0.0|              1.0|           2.0|                0.0|                1.0|(1,[0],[1.0])|      (1,[],[])|(3,[2],[1.0])|    (1,[0],[1.0])|    (3,[1],[1.0])|(11,[0,1,4,6,9,10...|[19.5843933859624...|[0.97921966929812...|       0.0|\n",
            "+------+----+------------+-------------+------------+---------+--------------+-----------------+----+--------------+------+-----------+-----------------+--------------+-------------------+-------------------+-------------+---------------+-------------+-----------------+-----------------+--------------------+--------------------+--------------------+----------+\n",
            "only showing top 5 rows\n",
            "\n",
            "0.95 is the accuray of the model pipeline\n",
            "Area under ROC Curve: 0.8170\n"
          ]
        }
      ]
    },
    {
      "cell_type": "markdown",
      "source": [
        "#Naive Bayes"
      ],
      "metadata": {
        "id": "hkdUtwVLweNh"
      }
    },
    {
      "cell_type": "code",
      "source": [
        "nb=NaiveBayes(labelCol='stroke',featuresCol='X')\n",
        "model(nb)"
      ],
      "metadata": {
        "colab": {
          "base_uri": "https://localhost:8080/"
        },
        "id": "jkmHK00Rwbg8",
        "outputId": "0cc707b1-ff63-453b-b44a-fcc0bf2a981f"
      },
      "execution_count": 54,
      "outputs": [
        {
          "output_type": "stream",
          "name": "stdout",
          "text": [
            "+------+----+------------+-------------+------------+---------+--------------+-----------------+----+--------------+------+-----------+-----------------+--------------+-------------------+-------------------+-------------+---------------+-------------+-----------------+-----------------+--------------------+--------------------+--------------------+----------+\n",
            "|gender| age|hypertension|heart_disease|ever_married|work_type|Residence_type|avg_glucose_level| bmi|smoking_status|stroke|genderIndex|ever_marriedIndex|work_typeIndex|Residence_typeIndex|smoking_statusIndex|    genderVec|ever_marriedVec| work_typeVec|Residence_typeVec|smoking_statusVec|                   X|       rawPrediction|         probability|prediction|\n",
            "+------+----+------------+-------------+------------+---------+--------------+-----------------+----+--------------+------+-----------+-----------------+--------------+-------------------+-------------------+-------------+---------------+-------------+-----------------+-----------------+--------------------+--------------------+--------------------+----------+\n",
            "|Female|0.32|           0|            0|          No| children|         Rural|            55.86|16.0|       Unknown|     0|        0.0|              1.0|           2.0|                1.0|                1.0|(1,[0],[1.0])|      (1,[],[])|(3,[2],[1.0])|        (1,[],[])|    (3,[1],[1.0])|(11,[0,1,4,6,10],...|[-71.653784673083...|[0.99992563486209...|       0.0|\n",
            "|Female|0.32|           0|            0|          No| children|         Rural|            73.71|16.2|       Unknown|     0|        0.0|              1.0|           2.0|                1.0|                1.0|(1,[0],[1.0])|      (1,[],[])|(3,[2],[1.0])|        (1,[],[])|    (3,[1],[1.0])|(11,[0,1,4,6,10],...|[-81.520040057371...|[0.99996641085423...|       0.0|\n",
            "|Female|0.32|           0|            0|          No| children|         Urban|           108.63|19.6|       Unknown|     0|        0.0|              1.0|           2.0|                0.0|                1.0|(1,[0],[1.0])|      (1,[],[])|(3,[2],[1.0])|    (1,[0],[1.0])|    (3,[1],[1.0])|(11,[0,1,4,6,9,10...|[-112.20224800638...|[0.99999699966475...|       0.0|\n",
            "|Female|0.48|           0|            0|          No| children|         Rural|           118.75|17.4|       Unknown|     0|        0.0|              1.0|           2.0|                1.0|                1.0|(1,[0],[1.0])|      (1,[],[])|(3,[2],[1.0])|        (1,[],[])|    (3,[1],[1.0])|(11,[0,1,4,6,10],...|[-107.92073865895...|[0.99999595566565...|       0.0|\n",
            "|Female|0.64|           0|            0|          No| children|         Urban|            62.27|17.3|       Unknown|     0|        0.0|              1.0|           2.0|                0.0|                1.0|(1,[0],[1.0])|      (1,[],[])|(3,[2],[1.0])|    (1,[0],[1.0])|    (3,[1],[1.0])|(11,[0,1,4,6,9,10...|[-83.770440939807...|[0.99996337737845...|       0.0|\n",
            "+------+----+------------+-------------+------------+---------+--------------+-----------------+----+--------------+------+-----------+-----------------+--------------+-------------------+-------------------+-------------+---------------+-------------+-----------------+-----------------+--------------------+--------------------+--------------------+----------+\n",
            "only showing top 5 rows\n",
            "\n",
            "0.825 is the accuray of the model pipeline\n",
            "Area under ROC Curve: 0.2083\n"
          ]
        }
      ]
    },
    {
      "cell_type": "markdown",
      "source": [
        "### CONCLUSION: The best fit model is Random Forest with an accuracy of the pipeline 94.6% and Area under the curve is around 80.57%"
      ],
      "metadata": {
        "id": "vfan9c5OwoOa"
      }
    }
  ]
}